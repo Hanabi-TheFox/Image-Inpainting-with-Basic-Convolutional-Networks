{
 "cells": [
  {
   "cell_type": "code",
   "execution_count": 4,
   "id": "c0205841aee070a0",
   "metadata": {
    "ExecuteTime": {
     "end_time": "2024-12-12T10:02:24.631781Z",
     "start_time": "2024-12-12T10:02:24.623643Z"
    },
    "scrolled": true
   },
   "outputs": [
    {
     "data": {
      "text/html": [
       "\n",
       "      <iframe id=\"tensorboard-frame-1fa3187c18ba665e\" width=\"100%\" height=\"800\" frameborder=\"0\">\n",
       "      </iframe>\n",
       "      <script>\n",
       "        (function() {\n",
       "          const frame = document.getElementById(\"tensorboard-frame-1fa3187c18ba665e\");\n",
       "          const url = new URL(\"/\", window.location);\n",
       "          const port = 6003;\n",
       "          if (port) {\n",
       "            url.port = port;\n",
       "          }\n",
       "          frame.src = url;\n",
       "        })();\n",
       "      </script>\n",
       "    "
      ],
      "text/plain": [
       "<IPython.core.display.HTML object>"
      ]
     },
     "metadata": {},
     "output_type": "display_data"
    }
   ],
   "source": [
    "%reload_ext tensorboard\n",
    "\n",
    "# try other ports with \"--port ...\" if it doesn't work\n",
    "%tensorboard --logdir \"Context_Encoder_Inpainting\""
   ]
  },
  {
   "cell_type": "code",
   "execution_count": null,
   "id": "3e978827-0392-4237-a008-847706b7ad46",
   "metadata": {},
   "outputs": [],
   "source": []
  },
  {
   "cell_type": "code",
   "execution_count": null,
   "id": "adc7064c-1337-4990-83c8-a295f05a7016",
   "metadata": {},
   "outputs": [],
   "source": []
  }
 ],
 "metadata": {
  "kernelspec": {
   "display_name": "Python 3 (ipykernel)",
   "language": "python",
   "name": "python3"
  },
  "language_info": {
   "codemirror_mode": {
    "name": "ipython",
    "version": 3
   },
   "file_extension": ".py",
   "mimetype": "text/x-python",
   "name": "python",
   "nbconvert_exporter": "python",
   "pygments_lexer": "ipython3",
   "version": "3.12.8"
  }
 },
 "nbformat": 4,
 "nbformat_minor": 5
}
